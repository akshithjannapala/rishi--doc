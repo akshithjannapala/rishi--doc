{
  "nbformat": 4,
  "nbformat_minor": 0,
  "metadata": {
    "colab": {
      "name": "2009  j-component project",
      "provenance": [],
      "collapsed_sections": [],
      "toc_visible": true
    },
    "kernelspec": {
      "display_name": "Python 3",
      "name": "python3"
    },
    "accelerator": "GPU"
  },
  "cells": [
    {
      "cell_type": "markdown",
      "metadata": {
        "id": "5fCEDCU_qrC0"
      },
      "source": [
        "<p><img alt=\"Colaboratory logo\" height=\"45px\" src=\"/img/colab_favicon.ico\" align=\"left\" hspace=\"10px\" vspace=\"0px\"></p>\n",
        "\n",
        "<h1>What is Colaboratory?</h1>\n",
        "\n",
        "Colaboratory, or \"Colab\" for short, allows you to write and execute Python in your browser, with \n",
        "- Zero configuration required\n",
        "- Free access to GPUs\n",
        "- Easy sharing\n",
        "\n",
        "Whether you're a **student**, a **data scientist** or an **AI researcher**, Colab can make your work easier. Watch [Introduction to Colab](https://www.youtube.com/watch?v=inN8seMm7UI) to learn more, or just get started below!"
      ]
    },
    {
      "cell_type": "markdown",
      "metadata": {
        "id": "GJBs_flRovLc"
      },
      "source": [
        "## **Getting started**\n",
        "\n",
        "The document you are reading is not a static web page, but an interactive environment called a **Colab notebook** that lets you write and execute code.\n",
        "\n",
        "For example, here is a **code cell** with a short Python script that computes a value, stores it in a variable, and prints the result:"
      ]
    },
    {
      "cell_type": "code",
      "metadata": {
        "colab": {
          "base_uri": "https://localhost:8080/",
          "height": 34
        },
        "id": "gJr_9dXGpJ05",
        "outputId": "9f556d03-ec67-4950-a485-cfdba9ddd14d"
      },
      "source": [
        "seconds_in_a_day = 24 * 60 * 60\n",
        "seconds_in_a_day"
      ],
      "execution_count": null,
      "outputs": [
        {
          "data": {
            "text/plain": [
              "86400"
            ]
          },
          "execution_count": 0,
          "metadata": {
            "tags": []
          },
          "output_type": "execute_result"
        }
      ]
    },
    {
      "cell_type": "markdown",
      "metadata": {
        "id": "2fhs6GZ4qFMx"
      },
      "source": [
        "To execute the code in the above cell, select it with a click and then either press the play button to the left of the code, or use the keyboard shortcut \"Command/Ctrl+Enter\". To edit the code, just click the cell and start editing.\n",
        "\n",
        "Variables that you define in one cell can later be used in other cells:"
      ]
    },
    {
      "cell_type": "code",
      "metadata": {
        "colab": {
          "base_uri": "https://localhost:8080/",
          "height": 34
        },
        "id": "-gE-Ez1qtyIA",
        "outputId": "94cb2224-0edf-457b-90b5-0ac3488d8a97"
      },
      "source": [
        "seconds_in_a_week = 7 * seconds_in_a_day\n",
        "seconds_in_a_week"
      ],
      "execution_count": null,
      "outputs": [
        {
          "data": {
            "text/plain": [
              "604800"
            ]
          },
          "execution_count": 0,
          "metadata": {
            "tags": []
          },
          "output_type": "execute_result"
        }
      ]
    },
    {
      "cell_type": "markdown",
      "metadata": {
        "id": "lSrWNr3MuFUS"
      },
      "source": [
        "Colab notebooks allow you to combine **executable code** and **rich text** in a single document, along with **images**, **HTML**, **LaTeX** and more. When you create your own Colab notebooks, they are stored in your Google Drive account. You can easily share your Colab notebooks with co-workers or friends, allowing them to comment on your notebooks or even edit them. To learn more, see [Overview of Colab](/notebooks/basic_features_overview.ipynb). To create a new Colab notebook you can use the File menu above, or use the following link: [create a new Colab notebook](http://colab.research.google.com#create=true).\n",
        "\n",
        "Colab notebooks are Jupyter notebooks that are hosted by Colab. To learn more about the Jupyter project, see [jupyter.org](https://www.jupyter.org)."
      ]
    },
    {
      "cell_type": "markdown",
      "metadata": {
        "id": "UdRyKR44dcNI"
      },
      "source": [
        "## Data science\n",
        "\n",
        "With Colab you can harness the full power of popular Python libraries to analyze and visualize data. The code cell below uses **numpy** to generate some random data, and uses **matplotlib** to visualize it. To edit the code, just click the cell and start editing."
      ]
    },
    {
      "cell_type": "code",
      "metadata": {
        "colab": {
          "base_uri": "https://localhost:8080/",
          "height": 281
        },
        "id": "C4HZx7Gndbrh",
        "outputId": "46abc637-6abd-41b2-9bba-80a7ae992e06"
      },
      "source": [
        "import numpy as np\n",
        "from matplotlib import pyplot as plt\n",
        "\n",
        "ys = 200 + np.random.randn(100)\n",
        "x = [x for x in range(len(ys))]\n",
        "\n",
        "plt.plot(x, ys, '-')\n",
        "plt.fill_between(x, ys, 195, where=(ys > 195), facecolor='g', alpha=0.6)\n",
        "\n",
        "plt.title(\"Sample Visualization\")\n",
        "plt.show()"
      ],
      "execution_count": null,
      "outputs": [
        {
          "data": {
            "image/png": "[encoded data removed]",
            "text/plain": [
              "<Figure size 432x288 with 1 Axes>"
            ]
          },
          "metadata": {
            "tags": []
          },
          "output_type": "display_data"
        }
      ]
    },
    {
      "cell_type": "markdown",
      "metadata": {
        "id": "4_kCnsPUqS6o"
      },
      "source": [
        "You can import your own data into Colab notebooks from your Google Drive account, including from spreadsheets, as well as from Github and many other sources. To learn more about importing data, and how Colab can be used for data science, see the links below under [Working with Data](#working-with-data)."
      ]
    },
    {
      "cell_type": "markdown",
      "metadata": {
        "id": "OwuxHmxllTwN"
      },
      "source": [
        "## Machine learning\n",
        "\n",
        "With Colab you can import an image dataset, train an image classifier on it, and evaluate the model, all in just [a few lines of code](https://colab.research.google.com/github/tensorflow/docs/blob/master/site/en/tutorials/quickstart/beginner.ipynb). Colab notebooks execute code on Google's cloud servers, meaning you can leverage the power of Google hardware, including [GPUs and TPUs](#using-accelerated-hardware), regardless of the power of your machine. All you need is a browser."
      ]
    },
    {
      "cell_type": "markdown",
      "metadata": {
        "id": "ufxBm1yRnruN"
      },
      "source": [
        "Colab is used extensively in the machine learning community with applications including:\n",
        "- Getting started with TensorFlow\n",
        "- Developing and training neural networks\n",
        "- Experimenting with TPUs\n",
        "- Disseminating AI research\n",
        "- Creating tutorials\n",
        "\n",
        "To see sample Colab notebooks that demonstrate machine learning applications, see the [machine learning examples](#machine-learning-examples) below."
      ]
    },
    {
      "cell_type": "markdown",
      "metadata": {
        "id": "-Rh3-Vt9Nev9"
      },
      "source": [
        "## More Resources\n",
        "\n",
        "### Working with Notebooks in Colab\n",
        "- [Overview of Colaboratory](/notebooks/basic_features_overview.ipynb)\n",
        "- [Guide to Markdown](/notebooks/markdown_guide.ipynb)\n",
        "- [Importing libraries and installing dependencies](/notebooks/snippets/importing_libraries.ipynb)\n",
        "- [Saving and loading notebooks in GitHub](https://colab.research.google.com/github/googlecolab/colabtools/blob/master/notebooks/colab-github-demo.ipynb)\n",
        "- [Interactive forms](/notebooks/forms.ipynb)\n",
        "- [Interactive widgets](/notebooks/widgets.ipynb)\n",
        "- <img src=\"/img/new.png\" height=\"20px\" align=\"left\" hspace=\"4px\" alt=\"New\"></img>\n",
        " [TensorFlow 2 in Colab](/notebooks/tensorflow_version.ipynb)\n",
        "\n",
        "<a name=\"working-with-data\"></a>\n",
        "### Working with Data\n",
        "- [Loading data: Drive, Sheets, and Google Cloud Storage](/notebooks/io.ipynb) \n",
        "- [Charts: visualizing data](/notebooks/charts.ipynb)\n",
        "- [Getting started with BigQuery](/notebooks/bigquery.ipynb)\n",
        "\n",
        "### Machine Learning Crash Course\n",
        "These are a few of the notebooks from Google's online Machine Learning course. See the [full course website](https://developers.google.com/machine-learning/crash-course/) for more.\n",
        "- [Intro to Pandas DataFrame](https://colab.research.google.com/github/google/eng-edu/blob/main/ml/cc/exercises/pandas_dataframe_ultraquick_tutorial.ipynb)\n",
        "- [Linear regression with tf.keras using synthetic data](https://colab.research.google.com/github/google/eng-edu/blob/main/ml/cc/exercises/linear_regression_with_synthetic_data.ipynb)\n",
        "\n",
        "\n",
        "<a name=\"using-accelerated-hardware\"></a>\n",
        "### Using Accelerated Hardware\n",
        "- [TensorFlow with GPUs](/notebooks/gpu.ipynb)\n",
        "- [TensorFlow with TPUs](/notebooks/tpu.ipynb)"
      ]
    },
    {
      "cell_type": "markdown",
      "metadata": {
        "id": "P-H6Lw1vyNNd"
      },
      "source": [
        "<a name=\"machine-learning-examples\"></a>\n",
        "\n",
        "## Machine Learning Examples\n",
        "\n",
        "To see end-to-end examples of the interactive machine learning analyses that Colaboratory makes possible, check out these  tutorials using models from [TensorFlow Hub](https://tfhub.dev).\n",
        "\n",
        "A few featured examples:\n",
        "\n",
        "- [Retraining an Image Classifier](https://tensorflow.org/hub/tutorials/tf2_image_retraining): Build a Keras model on top of a pre-trained image classifier to distinguish flowers.\n",
        "- [Text Classification](https://tensorflow.org/hub/tutorials/tf2_text_classification): Classify IMDB movie reviews as either *positive* or *negative*.\n",
        "- [Style Transfer](https://tensorflow.org/hub/tutorials/tf2_arbitrary_image_stylization): Use deep learning to transfer style between images.\n",
        "- [Multilingual Universal Sentence Encoder Q&A](https://tensorflow.org/hub/tutorials/retrieval_with_tf_hub_universal_encoder_qa): Use a machine learning model to answer questions from the SQuAD dataset.\n",
        "- [Video Interpolation](https://tensorflow.org/hub/tutorials/tweening_conv3d): Predict what happened in a video between the first and the last frame.\n"
      ]
    },
    {
      "cell_type": "code",
      "metadata": {
        "id": "IwI5xealLyTC",
        "colab": {
          "base_uri": "https://localhost:8080/"
        },
        "outputId": "4fc07469-e583-4729-a88f-e41b1ba6105d"
      },
      "source": [
        "import pandas as pd\n",
        "d=pd.read_csv('/content/garments_worker_productivity.csv')\n",
        "print(d)"
      ],
      "execution_count": null,
      "outputs": [
        {
          "output_type": "stream",
          "name": "stdout",
          "text": [
            "            date   quarter  ... no_of_workers actual_productivity\n",
            "0     01-01-2015  Quarter1  ...          59.0            0.940725\n",
            "1     01-01-2015  Quarter1  ...           8.0            0.886500\n",
            "2     01-01-2015  Quarter1  ...          30.5            0.800570\n",
            "3     01-01-2015  Quarter1  ...          30.5            0.800570\n",
            "4     01-01-2015  Quarter1  ...          56.0            0.800382\n",
            "...          ...       ...  ...           ...                 ...\n",
            "1192  03-11-2015  Quarter2  ...           8.0            0.628333\n",
            "1193  03-11-2015  Quarter2  ...           8.0            0.625625\n",
            "1194  03-11-2015  Quarter2  ...           8.0            0.625625\n",
            "1195  03-11-2015  Quarter2  ...          15.0            0.505889\n",
            "1196  03-11-2015  Quarter2  ...           6.0            0.394722\n",
            "\n",
            "[1197 rows x 15 columns]\n"
          ]
        }
      ]
    },
    {
      "cell_type": "code",
      "metadata": {
        "id": "Yg0ASYQlMLf8",
        "colab": {
          "base_uri": "https://localhost:8080/"
        },
        "outputId": "a949b0cf-be2d-44b2-9fad-735c8744606e"
      },
      "source": [
        "x1=d['team']\n",
        "x2=d['targeted_productivity']\n",
        "x3=d['smv']\n",
        "x4=d['wip']\n",
        "x5=d['over_time']\n",
        "x6=d['incentive']\n",
        "x7=d['idle_time']\n",
        "x8=d['idle_men']\n",
        "x9=d['no_of_style_change']\n",
        "x10=d['no_of_workers']\n",
        "y=d['targeted_productivity']\n",
        "print(x1,x2,x3,x4,x5,x6,x7,x8,x9,x10,y)"
      ],
      "execution_count": null,
      "outputs": [
        {
          "output_type": "stream",
          "name": "stdout",
          "text": [
            "0        8\n",
            "1        1\n",
            "2       11\n",
            "3       12\n",
            "4        6\n",
            "        ..\n",
            "1192    10\n",
            "1193     8\n",
            "1194     7\n",
            "1195     9\n",
            "1196     6\n",
            "Name: team, Length: 1197, dtype: int64 0       0.80\n",
            "1       0.75\n",
            "2       0.80\n",
            "3       0.80\n",
            "4       0.80\n",
            "        ... \n",
            "1192    0.75\n",
            "1193    0.70\n",
            "1194    0.65\n",
            "1195    0.75\n",
            "1196    0.70\n",
            "Name: targeted_productivity, Length: 1197, dtype: float64 0       26.16\n",
            "1        3.94\n",
            "2       11.41\n",
            "3       11.41\n",
            "4       25.90\n",
            "        ...  \n",
            "1192     2.90\n",
            "1193     3.90\n",
            "1194     3.90\n",
            "1195     2.90\n",
            "1196     2.90\n",
            "Name: smv, Length: 1197, dtype: float64 0       1108.0\n",
            "1          NaN\n",
            "2        968.0\n",
            "3        968.0\n",
            "4       1170.0\n",
            "         ...  \n",
            "1192       NaN\n",
            "1193       NaN\n",
            "1194       NaN\n",
            "1195       NaN\n",
            "1196       NaN\n",
            "Name: wip, Length: 1197, dtype: float64 0       7080\n",
            "1        960\n",
            "2       3660\n",
            "3       3660\n",
            "4       1920\n",
            "        ... \n",
            "1192     960\n",
            "1193     960\n",
            "1194     960\n",
            "1195    1800\n",
            "1196     720\n",
            "Name: over_time, Length: 1197, dtype: int64 0       98\n",
            "1        0\n",
            "2       50\n",
            "3       50\n",
            "4       50\n",
            "        ..\n",
            "1192     0\n",
            "1193     0\n",
            "1194     0\n",
            "1195     0\n",
            "1196     0\n",
            "Name: incentive, Length: 1197, dtype: int64 0       0.0\n",
            "1       0.0\n",
            "2       0.0\n",
            "3       0.0\n",
            "4       0.0\n",
            "       ... \n",
            "1192    0.0\n",
            "1193    0.0\n",
            "1194    0.0\n",
            "1195    0.0\n",
            "1196    0.0\n",
            "Name: idle_time, Length: 1197, dtype: float64 0       0\n",
            "1       0\n",
            "2       0\n",
            "3       0\n",
            "4       0\n",
            "       ..\n",
            "1192    0\n",
            "1193    0\n",
            "1194    0\n",
            "1195    0\n",
            "1196    0\n",
            "Name: idle_men, Length: 1197, dtype: int64 0       0\n",
            "1       0\n",
            "2       0\n",
            "3       0\n",
            "4       0\n",
            "       ..\n",
            "1192    0\n",
            "1193    0\n",
            "1194    0\n",
            "1195    0\n",
            "1196    0\n",
            "Name: no_of_style_change, Length: 1197, dtype: int64 0       59.0\n",
            "1        8.0\n",
            "2       30.5\n",
            "3       30.5\n",
            "4       56.0\n",
            "        ... \n",
            "1192     8.0\n",
            "1193     8.0\n",
            "1194     8.0\n",
            "1195    15.0\n",
            "1196     6.0\n",
            "Name: no_of_workers, Length: 1197, dtype: float64 0       0.80\n",
            "1       0.75\n",
            "2       0.80\n",
            "3       0.80\n",
            "4       0.80\n",
            "        ... \n",
            "1192    0.75\n",
            "1193    0.70\n",
            "1194    0.65\n",
            "1195    0.75\n",
            "1196    0.70\n",
            "Name: targeted_productivity, Length: 1197, dtype: float64\n"
          ]
        }
      ]
    },
    {
      "cell_type": "code",
      "metadata": {
        "id": "KxDJxhWHU0kU",
        "colab": {
          "base_uri": "https://localhost:8080/"
        },
        "outputId": "c08fece2-772e-4c66-be02-26136f53f51a"
      },
      "source": [
        "x4=x4.fillna(0)\n",
        "print(x4)"
      ],
      "execution_count": null,
      "outputs": [
        {
          "output_type": "stream",
          "name": "stdout",
          "text": [
            "0       1108.0\n",
            "1          0.0\n",
            "2        968.0\n",
            "3        968.0\n",
            "4       1170.0\n",
            "         ...  \n",
            "1192       0.0\n",
            "1193       0.0\n",
            "1194       0.0\n",
            "1195       0.0\n",
            "1196       0.0\n",
            "Name: wip, Length: 1197, dtype: float64\n"
          ]
        }
      ]
    },
    {
      "cell_type": "code",
      "metadata": {
        "id": "pBvkG8BHULT4"
      },
      "source": [
        "import random\n",
        "x1_train=[]\n",
        "x2_train=[]\n",
        "x3_train=[]\n",
        "x4_train=[]\n",
        "x5_train=[]\n",
        "x6_train=[]\n",
        "x7_train=[]\n",
        "x8_train=[]\n",
        "x9_train=[]\n",
        "x10_train=[]\n",
        "y_train=[]\n",
        "\n",
        "for j in range(0,800):\n",
        "  for i in range(0,1197,2):\n",
        "    x1_train.append(x1[i])\n",
        "    x2_train.append(x2[i])\n",
        "    x3_train.append(x3[i])\n",
        "    x4_train.append(x4[i])\n",
        "    x5_train.append(x5[i])\n",
        "    x6_train.append(x6[i])\n",
        "    x7_train.append(x7[i])\n",
        "    x8_train.append(x8[i])\n",
        "    x9_train.append(x9[i])\n",
        "    x10_train.append(x10[i])\n",
        "    y_train.append(y[i])\n",
        "\n",
        "\n",
        "\n"
      ],
      "execution_count": null,
      "outputs": []
    },
    {
      "cell_type": "code",
      "metadata": {
        "id": "dphHlHHciV3C"
      },
      "source": [
        "x1_test=[]\n",
        "x2_test=[]\n",
        "x3_test=[]\n",
        "x4_test=[]\n",
        "x5_test=[]\n",
        "x6_test=[]\n",
        "x7_test=[]\n",
        "x8_test=[]\n",
        "x9_test=[]\n",
        "x10_test=[]\n",
        "y_test=[]\n",
        "for i in range(801,1197):\n",
        "  for i in range(0,1197,2):\n",
        "    x1_test.append(x1[i])\n",
        "    x2_test.append(x2[i])\n",
        "    x3_test.append(x3[i])\n",
        "    x4_test.append(x4[i])\n",
        "    x5_test.append(x5[i])\n",
        "    x6_test.append(x6[i])\n",
        "    x7_test.append(x7[i])\n",
        "    x8_test.append(x8[i])\n",
        "    x9_test.append(x9[i])\n",
        "    x10_test.append(x10[i])\n",
        "    y_test.append(y[i])\n",
        "\n"
      ],
      "execution_count": null,
      "outputs": []
    },
    {
      "cell_type": "code",
      "metadata": {
        "id": "lGku1loaLyXh",
        "colab": {
          "base_uri": "https://localhost:8080/"
        },
        "outputId": "31842cb3-30fd-4279-dd9e-ca6eecb5520c"
      },
      "source": [
        "import numpy as np\n",
        "\n",
        "e=[]\n",
        "ee=[]\n",
        "def linear(m,m1,m2,m3,m4,m5,m6,m7,m8,m9,c):\n",
        "  sum=0\n",
        "  yp=[]\n",
        "  \n",
        "\n",
        "  for i in range(0,len(x10_train)):\n",
        "    yp.append(m*x1_train[i]+m1*x2_train[i]+m2*x3_train[i]+m3*x4_train[i]+m4*x5_train[i]+m5*x6_train[i]+m6*x7_train[i]+m7*x8_train[i]+m8*x9_train[i]+m9*x10_train[i]+c)\n",
        "    g=(y_train[i]-yp[i])**2\n",
        "    sum=sum+g\n",
        "  e.append(sum)\n",
        "  ee.append(np.mod(sum,len(x1_train)))\n",
        "  print(m,m1,m2,m3,m4,m5,m6,m7,m8,m9,c,np.mod(sum,len(x10_train)))\n",
        "  sum=0\n",
        "\n",
        "for i in range(1,100):\n",
        "  linear(1+i,2+i,3+i,4+i,5+i,6+i,7+i,8+i,9+i,10+i,11+i)\n"
      ],
      "execution_count": null,
      "outputs": [
        {
          "output_type": "stream",
          "name": "stdout",
          "text": [
            "2 3 4 5 6 7 8 9 10 11 12 129198.0\n",
            "3 4 5 6 7 8 9 10 11 12 13 61340.75\n",
            "4 5 6 7 8 9 10 11 12 13 14 275215.5\n",
            "5 6 7 8 9 10 11 12 13 14 15 294528.5\n",
            "6 7 8 9 10 11 12 13 14 15 16 112303.75\n",
            "7 8 9 10 11 12 13 14 15 16 17 217300.0\n",
            "8 9 10 11 12 13 14 15 16 17 18 123818.0\n",
            "9 10 11 12 13 14 15 16 17 18 19 312357.5\n",
            "10 11 12 13 14 15 16 17 18 19 20 302493.5\n",
            "11 12 13 14 15 16 17 18 19 20 21 98190.0\n",
            "12 13 14 15 16 17 18 19 20 21 22 178431.0\n",
            "13 14 15 16 17 18 19 20 21 22 23 57641.0\n",
            "14 15 16 17 18 19 20 21 22 23 24 221543.0\n",
            "15 16 17 18 19 20 21 22 23 24 25 190381.0\n",
            "16 17 18 19 20 21 22 23 24 25 26 443787.0\n",
            "17 18 19 20 21 22 23 24 25 26 27 11082.0\n",
            "18 19 20 21 22 23 24 25 26 27 28 342076.0\n",
            "19 20 21 22 23 24 25 26 27 28 29 4850.0\n",
            "20 21 22 23 24 25 26 27 28 29 30 430418.0\n",
            "21 22 23 24 25 26 27 28 29 30 31 172132.0\n",
            "22 23 24 25 26 27 28 29 30 31 32 197820.0\n",
            "23 24 25 26 27 28 29 30 31 32 33 38284.0\n",
            "24 25 26 27 28 29 30 31 32 33 34 148256.0\n",
            "25 26 27 28 29 30 31 32 33 34 35 63328.0\n",
            "26 27 28 29 30 31 32 33 34 35 36 249272.0\n",
            "27 28 29 30 31 32 33 34 35 36 37 263064.0\n",
            "28 29 30 31 32 33 34 35 36 37 38 58392.0\n",
            "29 30 31 32 33 34 35 36 37 38 39 152196.0\n",
            "30 31 32 33 34 35 36 37 38 39 40 44064.0\n",
            "31 32 33 34 35 36 37 38 39 40 41 231428.0\n",
            "32 33 34 35 36 37 38 39 40 41 42 194156.0\n",
            "33 34 35 36 37 38 39 40 41 42 43 474028.0\n",
            "34 35 36 37 38 39 40 41 42 43 44 43912.0\n",
            "35 36 37 38 39 40 41 42 43 44 45 397416.0\n",
            "36 37 38 39 40 41 42 43 44 45 46 38804.0\n",
            "37 38 39 40 41 42 43 44 45 46 47 38272.0\n",
            "38 39 40 41 42 43 44 45 46 47 48 244896.0\n",
            "39 40 41 42 43 44 45 46 47 48 49 287584.0\n",
            "40 41 42 43 44 45 46 47 48 49 50 124440.0\n",
            "41 42 43 44 45 46 47 48 49 50 51 248528.0\n",
            "42 43 44 45 46 47 48 49 50 51 52 165480.0\n",
            "43 44 45 46 47 48 49 50 51 52 53 403328.0\n",
            "44 45 46 47 48 49 50 51 52 53 54 401984.0\n",
            "45 46 47 48 49 50 51 52 53 54 55 227736.0\n",
            "46 47 48 49 50 51 52 53 54 55 56 319888.0\n",
            "47 48 49 50 51 52 53 54 55 56 57 217056.0\n",
            "48 49 50 51 52 53 54 55 56 57 58 353496.0\n",
            "49 50 51 52 53 54 55 56 57 58 59 350176.0\n",
            "50 51 52 53 54 55 56 57 58 59 60 215328.0\n",
            "51 52 53 54 55 56 57 58 59 60 61 262624.0\n",
            "52 53 54 55 56 57 58 59 60 61 62 132832.0\n",
            "53 54 55 56 57 58 59 60 61 62 63 329800.0\n",
            "54 55 56 57 58 59 60 61 62 63 64 283424.0\n",
            "55 56 57 58 59 60 61 62 63 64 65 20768.0\n",
            "56 57 58 59 60 61 62 63 64 65 66 28464.0\n",
            "57 58 59 60 61 62 63 64 65 66 67 369328.0\n",
            "58 59 60 61 62 63 64 65 66 67 68 67264.0\n",
            "59 60 61 62 63 64 65 66 67 68 69 49872.0\n",
            "60 61 62 63 64 65 66 67 68 69 70 277184.0\n",
            "61 62 63 64 65 66 67 68 69 70 71 279584.0\n",
            "62 63 64 65 66 67 68 69 70 71 72 45328.0\n",
            "63 64 65 66 67 68 69 70 71 72 73 150432.0\n",
            "64 65 66 67 68 69 70 71 72 73 74 53408.0\n",
            "65 66 67 68 69 70 71 72 73 74 75 260000.0\n",
            "66 67 68 69 70 71 72 73 74 75 76 267648.0\n",
            "67 68 69 70 71 72 73 74 75 76 77 87856.0\n",
            "68 69 70 71 72 73 74 75 76 77 78 230688.0\n",
            "69 70 71 72 73 74 75 76 77 78 79 78544.0\n",
            "70 71 72 73 74 75 76 77 78 79 80 323360.0\n",
            "71 72 73 74 75 76 77 78 79 80 81 244912.0\n",
            "72 73 74 75 76 77 78 79 80 81 82 452496.0\n",
            "73 74 75 76 77 78 79 80 81 82 83 464640.0\n",
            "74 75 76 77 78 79 80 81 82 83 84 402352.0\n",
            "75 76 77 78 79 80 81 82 83 84 85 476016.0\n",
            "76 77 78 79 80 81 82 83 84 85 86 70192.0\n",
            "77 78 79 80 81 82 83 84 85 86 87 245920.0\n",
            "78 79 80 81 82 83 84 85 86 87 88 291328.0\n",
            "79 80 81 82 83 84 85 86 87 88 89 83808.0\n",
            "80 81 82 83 84 85 86 87 88 89 90 149984.0\n",
            "81 82 83 84 85 86 87 88 89 90 91 118240.0\n",
            "82 83 84 85 86 87 88 89 90 91 92 406400.0\n",
            "83 84 85 86 87 88 89 90 91 92 93 446176.0\n",
            "84 85 86 87 88 89 90 91 92 93 94 200576.0\n",
            "85 86 87 88 89 90 91 92 93 94 95 168032.0\n",
            "86 87 88 89 90 91 92 93 94 95 96 79680.0\n",
            "87 88 89 90 91 92 93 94 95 96 97 329888.0\n",
            "88 89 90 91 92 93 94 95 96 97 98 463584.0\n",
            "89 90 91 92 93 94 95 96 97 98 99 116224.0\n",
            "90 91 92 93 94 95 96 97 98 99 100 193280.0\n",
            "91 92 93 94 95 96 97 98 99 100 101 99008.0\n",
            "92 93 94 95 96 97 98 99 100 101 102 327712.0\n",
            "93 94 95 96 97 98 99 100 101 102 103 74912.0\n",
            "94 95 96 97 98 99 100 101 102 103 104 424096.0\n",
            "95 96 97 98 99 100 101 102 103 104 105 473792.0\n",
            "96 97 98 99 100 101 102 103 104 105 106 361856.0\n",
            "97 98 99 100 101 102 103 104 105 106 107 442080.0\n",
            "98 99 100 101 102 103 104 105 106 107 108 319072.0\n",
            "99 100 101 102 103 104 105 106 107 108 109 110784.0\n",
            "100 101 102 103 104 105 106 107 108 109 110 49664.0\n"
          ]
        }
      ]
    },
    {
      "cell_type": "code",
      "metadata": {
        "colab": {
          "base_uri": "https://localhost:8080/"
        },
        "id": "-p_CjvkJmQRN",
        "outputId": "5a022891-9a34-4ff0-f24a-2d0edbe67d1c"
      },
      "source": [
        "print(ee)"
      ],
      "execution_count": null,
      "outputs": [
        {
          "output_type": "stream",
          "name": "stdout",
          "text": [
            "[129198.0, 61340.75, 275215.5, 294528.5, 112303.75, 217300.0, 123818.0, 312357.5, 302493.5, 98190.0, 178431.0, 57641.0, 221543.0, 190381.0, 443787.0, 11082.0, 342076.0, 4850.0, 430418.0, 172132.0, 197820.0, 38284.0, 148256.0, 63328.0, 249272.0, 263064.0, 58392.0, 152196.0, 44064.0, 231428.0, 194156.0, 474028.0, 43912.0, 397416.0, 38804.0, 38272.0, 244896.0, 287584.0, 124440.0, 248528.0, 165480.0, 403328.0, 401984.0, 227736.0, 319888.0, 217056.0, 353496.0, 350176.0, 215328.0, 262624.0, 132832.0, 329800.0, 283424.0, 20768.0, 28464.0, 369328.0, 67264.0, 49872.0, 277184.0, 279584.0, 45328.0, 150432.0, 53408.0, 260000.0, 267648.0, 87856.0, 230688.0, 78544.0, 323360.0, 244912.0, 452496.0, 464640.0, 402352.0, 476016.0, 70192.0, 245920.0, 291328.0, 83808.0, 149984.0, 118240.0, 406400.0, 446176.0, 200576.0, 168032.0, 79680.0, 329888.0, 463584.0, 116224.0, 193280.0, 99008.0, 327712.0, 74912.0, 424096.0, 473792.0, 361856.0, 442080.0, 319072.0, 110784.0, 49664.0]\n"
          ]
        }
      ]
    },
    {
      "cell_type": "code",
      "metadata": {
        "colab": {
          "base_uri": "https://localhost:8080/"
        },
        "id": "rPv9NhNKWL-S",
        "outputId": "a5fdd3bc-f1ee-4939-d213-0947b77de8ac"
      },
      "source": [
        "a=np.array(ee).min()\n",
        "print(a)\n",
        "c=np.where(ee==a)"
      ],
      "execution_count": null,
      "outputs": [
        {
          "output_type": "stream",
          "name": "stdout",
          "text": [
            "4850.0\n"
          ]
        }
      ]
    },
    {
      "cell_type": "code",
      "metadata": {
        "colab": {
          "base_uri": "https://localhost:8080/"
        },
        "id": "OVhuNxQ3mEhd",
        "outputId": "ee52e34c-be79-49f1-96be-97c504dd31a5"
      },
      "source": [
        "print(c)"
      ],
      "execution_count": null,
      "outputs": [
        {
          "output_type": "stream",
          "name": "stdout",
          "text": [
            "(array([17]),)\n"
          ]
        }
      ]
    },
    {
      "cell_type": "code",
      "metadata": {
        "id": "5elWo_azc7yP",
        "colab": {
          "base_uri": "https://localhost:8080/"
        },
        "outputId": "3ab63581-f011-4e50-93ed-a7a4773b7914"
      },
      "source": [
        "ee1=np.arange(0,99)\n",
        "print(ee1)"
      ],
      "execution_count": null,
      "outputs": [
        {
          "output_type": "stream",
          "name": "stdout",
          "text": [
            "[ 0  1  2  3  4  5  6  7  8  9 10 11 12 13 14 15 16 17 18 19 20 21 22 23\n",
            " 24 25 26 27 28 29 30 31 32 33 34 35 36 37 38 39 40 41 42 43 44 45 46 47\n",
            " 48 49 50 51 52 53 54 55 56 57 58 59 60 61 62 63 64 65 66 67 68 69 70 71\n",
            " 72 73 74 75 76 77 78 79 80 81 82 83 84 85 86 87 88 89 90 91 92 93 94 95\n",
            " 96 97 98]\n"
          ]
        }
      ]
    },
    {
      "cell_type": "code",
      "metadata": {
        "id": "WeQ7oMpbmDHV",
        "colab": {
          "base_uri": "https://localhost:8080/"
        },
        "outputId": "afde2cd8-263e-4a5f-ec8c-a8bc16192da2"
      },
      "source": [
        "import numpy as np\n",
        "\n",
        "z=[]\n",
        "zz=[]\n",
        "def linear1(m,m1,m2,m3,m4,m5,m6,m7,m8,m9,c):\n",
        "  sum=0\n",
        "  yp=[]\n",
        "  j=0\n",
        "  \n",
        "  for i in range(801,1196):\n",
        "    yp.append(m*x1_test[i]+m1*x2_test[i]+m2*x3_test[i]+m3*x4_test[i]+m4*x5_test[i]+m5*x6_test[i]+m6*x7_test[i]+m7*x8_test[i]+m8*x9_test[i]+m9*x10_test[i]+c) \n",
        "    g=(y_test[i]-yp[j])**2\n",
        "    j=j+1\n",
        "    sum=sum+g\n",
        "  z.append(sum)\n",
        "  zz.append(np.mod(sum,len(x1_test)))\n",
        "  print(m,m1,m2,m3,m4,m5,m6,m7,m8,m9,c,np.mod(sum,len(x1_test)))\n",
        "  \n",
        "\n",
        "linear1(19, 20 ,21, 22, 23, 24, 25, 26, 27 ,28 ,29)\n"
      ],
      "execution_count": null,
      "outputs": [
        {
          "output_type": "stream",
          "name": "stdout",
          "text": [
            "19 20 21 22 23 24 25 26 27 28 29 31891.171875\n"
          ]
        }
      ]
    },
    {
      "cell_type": "code",
      "metadata": {
        "colab": {
          "base_uri": "https://localhost:8080/",
          "height": 282
        },
        "id": "VPUwxUnldTmF",
        "outputId": "530967a0-f1ae-45fd-e5fd-f95ff309f1ca"
      },
      "source": [
        "from matplotlib import pyplot as pp\n",
        "pp.plot(ee1,ee)"
      ],
      "execution_count": null,
      "outputs": [
        {
          "output_type": "execute_result",
          "data": {
            "text/plain": [
              "[<matplotlib.lines.Line2D at 0x7faefa04c7d0>]"
            ]
          },
          "metadata": {},
          "execution_count": 13
        },
        {
          "output_type": "display_data",
          "data": {
            "image/png": "[encoded data removed]",
            "text/plain": [
              "<Figure size 432x288 with 1 Axes>"
            ]
          },
          "metadata": {
            "needs_background": "light"
          }
        }
      ]
    },
    {
      "cell_type": "code",
      "metadata": {
        "id": "IMZE_DGKLymb",
        "colab": {
          "base_uri": "https://localhost:8080/",
          "height": 282
        },
        "outputId": "2dbac426-fabc-44eb-8af0-dffb01888be2"
      },
      "source": [
        "from matplotlib import pyplot as pt\n",
        "pt.scatter(x1,y)"
      ],
      "execution_count": null,
      "outputs": [
        {
          "output_type": "execute_result",
          "data": {
            "text/plain": [
              "<matplotlib.collections.PathCollection at 0x7faef48ce350>"
            ]
          },
          "metadata": {},
          "execution_count": 14
        },
        {
          "output_type": "display_data",
          "data": {
            "image/png": "[encoded data removed]",
            "text/plain": [
              "<Figure size 432x288 with 1 Axes>"
            ]
          },
          "metadata": {
            "needs_background": "light"
          }
        }
      ]
    },
    {
      "cell_type": "code",
      "metadata": {
        "colab": {
          "base_uri": "https://localhost:8080/",
          "height": 282
        },
        "id": "Aqh9fj5UVqgU",
        "outputId": "b76322e6-1f75-43b8-9f8f-8bde10c5b624"
      },
      "source": [
        "pt.scatter(x2,y)"
      ],
      "execution_count": null,
      "outputs": [
        {
          "output_type": "execute_result",
          "data": {
            "text/plain": [
              "<matplotlib.collections.PathCollection at 0x7faef45ecad0>"
            ]
          },
          "metadata": {},
          "execution_count": 15
        },
        {
          "output_type": "display_data",
          "data": {
            "image/png": "[encoded data removed]",
            "text/plain": [
              "<Figure size 432x288 with 1 Axes>"
            ]
          },
          "metadata": {
            "needs_background": "light"
          }
        }
      ]
    },
    {
      "cell_type": "code",
      "metadata": {
        "colab": {
          "base_uri": "https://localhost:8080/",
          "height": 282
        },
        "id": "QGh0bolrVqjT",
        "outputId": "e06eecbd-181f-42b0-d020-c8f3bd1a8cd2"
      },
      "source": [
        "pt.scatter(x3,y)"
      ],
      "execution_count": null,
      "outputs": [
        {
          "output_type": "execute_result",
          "data": {
            "text/plain": [
              "<matplotlib.collections.PathCollection at 0x7faef4456b10>"
            ]
          },
          "metadata": {},
          "execution_count": 16
        },
        {
          "output_type": "display_data",
          "data": {
            "image/png": "[encoded data removed]",
            "text/plain": [
              "<Figure size 432x288 with 1 Axes>"
            ]
          },
          "metadata": {
            "needs_background": "light"
          }
        }
      ]
    },
    {
      "cell_type": "code",
      "metadata": {
        "colab": {
          "base_uri": "https://localhost:8080/",
          "height": 282
        },
        "id": "VVr28nlYVqnD",
        "outputId": "9c2a5144-5291-4486-8920-a4428ca27dec"
      },
      "source": [
        "pt.scatter(x4,y)"
      ],
      "execution_count": null,
      "outputs": [
        {
          "output_type": "execute_result",
          "data": {
            "text/plain": [
              "<matplotlib.collections.PathCollection at 0x7faef49284d0>"
            ]
          },
          "metadata": {},
          "execution_count": 17
        },
        {
          "output_type": "display_data",
          "data": {
            "image/png": "[encoded data removed]",
            "text/plain": [
              "<Figure size 432x288 with 1 Axes>"
            ]
          },
          "metadata": {
            "needs_background": "light"
          }
        }
      ]
    },
    {
      "cell_type": "code",
      "metadata": {
        "colab": {
          "base_uri": "https://localhost:8080/",
          "height": 282
        },
        "id": "za5z5KsqVqp4",
        "outputId": "7622b71f-d848-4f3f-a6d5-d5f389b4ce47"
      },
      "source": [
        "pt.scatter(x5,y)"
      ],
      "execution_count": null,
      "outputs": [
        {
          "output_type": "execute_result",
          "data": {
            "text/plain": [
              "<matplotlib.collections.PathCollection at 0x7faef4727bd0>"
            ]
          },
          "metadata": {},
          "execution_count": 18
        },
        {
          "output_type": "display_data",
          "data": {
            "image/png": "[encoded data removed]",
            "text/plain": [
              "<Figure size 432x288 with 1 Axes>"
            ]
          },
          "metadata": {
            "needs_background": "light"
          }
        }
      ]
    },
    {
      "cell_type": "code",
      "metadata": {
        "id": "UvSSGyTULyqV",
        "colab": {
          "base_uri": "https://localhost:8080/",
          "height": 282
        },
        "outputId": "a143e629-298d-4385-b930-4da5599ef578"
      },
      "source": [
        "pt.scatter(x6,y)"
      ],
      "execution_count": null,
      "outputs": [
        {
          "output_type": "execute_result",
          "data": {
            "text/plain": [
              "<matplotlib.collections.PathCollection at 0x7faef40c6710>"
            ]
          },
          "metadata": {},
          "execution_count": 19
        },
        {
          "output_type": "display_data",
          "data": {
            "image/png": "[encoded data removed]",
            "text/plain": [
              "<Figure size 432x288 with 1 Axes>"
            ]
          },
          "metadata": {
            "needs_background": "light"
          }
        }
      ]
    },
    {
      "cell_type": "code",
      "metadata": {
        "colab": {
          "base_uri": "https://localhost:8080/",
          "height": 282
        },
        "id": "7W-nUJVJWOoi",
        "outputId": "0543d904-2db1-4d2c-8d01-02cf094e1ac0"
      },
      "source": [
        "pt.scatter(x6,y)"
      ],
      "execution_count": null,
      "outputs": [
        {
          "output_type": "execute_result",
          "data": {
            "text/plain": [
              "<matplotlib.collections.PathCollection at 0x7faef4bab2d0>"
            ]
          },
          "metadata": {},
          "execution_count": 20
        },
        {
          "output_type": "display_data",
          "data": {
            "image/png": "[encoded data removed]",
            "text/plain": [
              "<Figure size 432x288 with 1 Axes>"
            ]
          },
          "metadata": {
            "needs_background": "light"
          }
        }
      ]
    },
    {
      "cell_type": "code",
      "metadata": {
        "colab": {
          "base_uri": "https://localhost:8080/",
          "height": 282
        },
        "id": "vFo4RQxzWOrQ",
        "outputId": "9504c6a3-7443-4e1e-cb88-e8d9e1ab6d2e"
      },
      "source": [
        "pt.scatter(x7,y)"
      ],
      "execution_count": null,
      "outputs": [
        {
          "output_type": "execute_result",
          "data": {
            "text/plain": [
              "<matplotlib.collections.PathCollection at 0x7faef4b51910>"
            ]
          },
          "metadata": {},
          "execution_count": 21
        },
        {
          "output_type": "display_data",
          "data": {
            "image/png": "[encoded data removed]",
            "text/plain": [
              "<Figure size 432x288 with 1 Axes>"
            ]
          },
          "metadata": {
            "needs_background": "light"
          }
        }
      ]
    },
    {
      "cell_type": "code",
      "metadata": {
        "colab": {
          "base_uri": "https://localhost:8080/",
          "height": 282
        },
        "id": "ONE1ru4JWOvx",
        "outputId": "0a5bc1a1-dc2b-45bc-d38d-c1d78eab9cb6"
      },
      "source": [
        "pt.scatter(x8,y)"
      ],
      "execution_count": null,
      "outputs": [
        {
          "output_type": "execute_result",
          "data": {
            "text/plain": [
              "<matplotlib.collections.PathCollection at 0x7faef4a477d0>"
            ]
          },
          "metadata": {},
          "execution_count": 22
        },
        {
          "output_type": "display_data",
          "data": {
            "image/png": "[encoded data removed]",
            "text/plain": [
              "<Figure size 432x288 with 1 Axes>"
            ]
          },
          "metadata": {
            "needs_background": "light"
          }
        }
      ]
    },
    {
      "cell_type": "code",
      "metadata": {
        "colab": {
          "base_uri": "https://localhost:8080/",
          "height": 282
        },
        "id": "CnR4FhD4WO2h",
        "outputId": "94506e52-dd84-4928-f818-03dd77d40d0d"
      },
      "source": [
        "pt.scatter(x9,y)"
      ],
      "execution_count": null,
      "outputs": [
        {
          "output_type": "execute_result",
          "data": {
            "text/plain": [
              "<matplotlib.collections.PathCollection at 0x7faef41aa850>"
            ]
          },
          "metadata": {},
          "execution_count": 23
        },
        {
          "output_type": "display_data",
          "data": {
            "image/png": "[encoded data removed]",
            "text/plain": [
              "<Figure size 432x288 with 1 Axes>"
            ]
          },
          "metadata": {
            "needs_background": "light"
          }
        }
      ]
    },
    {
      "cell_type": "code",
      "metadata": {
        "id": "t1-Ah7rrLyuV",
        "colab": {
          "base_uri": "https://localhost:8080/",
          "height": 282
        },
        "outputId": "0cda3e4f-a583-43bf-c2f7-3797aef8a67c"
      },
      "source": [
        "pt.scatter(x10,y)"
      ],
      "execution_count": null,
      "outputs": [
        {
          "output_type": "execute_result",
          "data": {
            "text/plain": [
              "<matplotlib.collections.PathCollection at 0x7faef4067510>"
            ]
          },
          "metadata": {},
          "execution_count": 24
        },
        {
          "output_type": "display_data",
          "data": {
            "image/png": "[encoded data removed]",
            "text/plain": [
              "<Figure size 432x288 with 1 Axes>"
            ]
          },
          "metadata": {
            "needs_background": "light"
          }
        }
      ]
    },
    {
      "cell_type": "code",
      "metadata": {
        "id": "KOs_uqkpWao-"
      },
      "source": [
        ""
      ],
      "execution_count": null,
      "outputs": []
    }
  ]
}